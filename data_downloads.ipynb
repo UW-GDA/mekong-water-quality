{
 "cells": [
  {
   "cell_type": "code",
   "execution_count": 1,
   "id": "d6d801a2-ab9f-4736-9520-819aa014801a",
   "metadata": {
    "tags": []
   },
   "outputs": [],
   "source": [
    "import os\n",
    "import requests"
   ]
  },
  {
   "cell_type": "code",
   "execution_count": 2,
   "id": "1a54b1df-266d-4647-b5fb-ffbc639f0993",
   "metadata": {
    "tags": []
   },
   "outputs": [],
   "source": [
    "data_dir = \"/home/jovyan/data/\""
   ]
  },
  {
   "cell_type": "code",
   "execution_count": null,
   "id": "3c941e5a-0ef2-4104-a514-1d79af625e2f",
   "metadata": {},
   "outputs": [],
   "source": [
    "# GRWL summary stats\n",
    "\n"
   ]
  },
  {
   "cell_type": "code",
   "execution_count": null,
   "id": "80afa37f-946d-4a4f-86dd-6788553c4925",
   "metadata": {},
   "outputs": [],
   "source": [
    "# HydroRIVERS\n",
    "\n"
   ]
  },
  {
   "cell_type": "code",
   "execution_count": null,
   "id": "026c8fd8-7689-4f5c-8b3e-48230251d5b8",
   "metadata": {},
   "outputs": [],
   "source": [
    "# asia polygons (for visualization)\n",
    "\n"
   ]
  },
  {
   "cell_type": "code",
   "execution_count": 4,
   "id": "bd0f36c0-439d-4398-b074-026cd679b29f",
   "metadata": {
    "tags": []
   },
   "outputs": [],
   "source": [
    "# JRC yearly water classification\n",
    "url = 'https://storage.googleapis.com/global-surface-water/downloads2021/occurrence/occurrence_100E_20Nv1_4_2021.tif'\n",
    "out_fn = data_dir + 'occurrence_100E_20Nv1_4_2021.tif'\n",
    "response = requests.get(url)\n",
    "if response.status_code == 200:\n",
    "            #Write to disk\n",
    "            open(out_fn, 'wb').write(response.content)\n",
    "\n",
    "\n"
   ]
  }
 ],
 "metadata": {
  "kernelspec": {
   "display_name": "Python 3 (ipykernel)",
   "language": "python",
   "name": "python3"
  },
  "language_info": {
   "codemirror_mode": {
    "name": "ipython",
    "version": 3
   },
   "file_extension": ".py",
   "mimetype": "text/x-python",
   "name": "python",
   "nbconvert_exporter": "python",
   "pygments_lexer": "ipython3",
   "version": "3.11.4"
  }
 },
 "nbformat": 4,
 "nbformat_minor": 5
}
