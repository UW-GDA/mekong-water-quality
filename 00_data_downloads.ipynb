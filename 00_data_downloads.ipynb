{
 "cells": [
  {
   "cell_type": "code",
   "execution_count": 34,
   "id": "d6d801a2-ab9f-4736-9520-819aa014801a",
   "metadata": {
    "tags": []
   },
   "outputs": [],
   "source": [
    "import os\n",
    "import requests\n",
    "import zipfile\n",
    "import geopandas as gpd"
   ]
  },
  {
   "cell_type": "code",
   "execution_count": 35,
   "id": "1a54b1df-266d-4647-b5fb-ffbc639f0993",
   "metadata": {
    "tags": []
   },
   "outputs": [],
   "source": [
    "data_dir = \"data/external/\""
   ]
  },
  {
   "cell_type": "code",
   "execution_count": 11,
   "id": "3c941e5a-0ef2-4104-a514-1d79af625e2f",
   "metadata": {},
   "outputs": [],
   "source": [
    "# GRWL summary stats\n",
    "# https://zenodo.org/records/1297434\n",
    "url = 'https://zenodo.org/records/1297434/files/GRWL_summaryStats_V01.01.zip?download=1'\n",
    "out_fn = data_dir + 'GRWL_summaryStats_V01.01.zip'\n",
    "response = requests.get(url)\n",
    "if response.status_code == 200:\n",
    "    open(out_fn, 'wb').write(response.content)\n",
    "    \n",
    "# unzip\n",
    "with zipfile.ZipFile(out_fn, \"r\") as zip_ref:\n",
    "    zip_ref.extractall(data_dir + 'GRWL_summaryStats_V01')\n",
    "\n",
    "# remove zipfile\n",
    "os.remove(out_fn)"
   ]
  },
  {
   "cell_type": "code",
   "execution_count": 18,
   "id": "80afa37f-946d-4a4f-86dd-6788553c4925",
   "metadata": {},
   "outputs": [],
   "source": [
    "# HydroRIVERS\n",
    "# https://www.hydrosheds.org/products/hydrorivers\n",
    "url = 'https://data.hydrosheds.org/file/HydroRIVERS/HydroRIVERS_v10_as_shp.zip'\n",
    "out_fn = data_dir + 'HydroRIVERS_v10_as_shp.zip'\n",
    "response = requests.get(url)\n",
    "if response.status_code == 200:\n",
    "    open(out_fn, 'wb').write(response.content)\n",
    "    \n",
    "# unzip\n",
    "with zipfile.ZipFile(out_fn, \"r\") as zip_ref:\n",
    "    zip_ref.extractall(data_dir) # it will unzip into a directory\n",
    "\n",
    "# remove zipfile\n",
    "os.remove(out_fn)"
   ]
  },
  {
   "cell_type": "code",
   "execution_count": 17,
   "id": "026c8fd8-7689-4f5c-8b3e-48230251d5b8",
   "metadata": {},
   "outputs": [],
   "source": [
    "# asia polygons (for visualization)\n",
    "# in this case, just load directly into memory and only \n",
    "# save a simplified version\n",
    "url = 'https://stacks.stanford.edu/file/druid:yg089df0008/data.zip'\n",
    "out_fn = data_dir + 'asia_polygons.gpkg'\n",
    "\n",
    "asia_polygons = gpd.read_file(url)\n",
    "asia = asia_polygons.to_crs('EPSG:32648')\n",
    "asia['geometry'] = asia.simplify(1000)\n",
    "asia = asia.to_crs(asia_polygons.crs)\n",
    "asia = asia[asia['REGION'] == 'ASIA']\n",
    "asia.to_file(out_fn)"
   ]
  },
  {
   "cell_type": "code",
   "execution_count": 4,
   "id": "bd0f36c0-439d-4398-b074-026cd679b29f",
   "metadata": {
    "tags": []
   },
   "outputs": [],
   "source": [
    "# JRC yearly water classification\n",
    "url = 'https://storage.googleapis.com/global-surface-water/downloads2021/occurrence/occurrence_100E_20Nv1_4_2021.tif'\n",
    "out_fn = data_dir + 'occurrence_100E_20Nv1_4_2021.tif'\n",
    "response = requests.get(url)\n",
    "if response.status_code == 200:\n",
    "            #Write to disk\n",
    "            open(out_fn, 'wb').write(response.content)\n",
    "\n",
    "\n"
   ]
  },
  {
   "cell_type": "code",
   "execution_count": 33,
   "id": "aec92826-d917-42e4-a845-8f9774135f39",
   "metadata": {
    "tags": []
   },
   "outputs": [],
   "source": [
    "# Tonle Sap Lake\n",
    "# from https://data.opendevelopmentmekong.net/dataset/water-bodies-in-cambodia\n",
    "url = 'https://data.opendevelopmentcambodia.net/en/dataset/3c74812b-0a78-4407-a072-6f91c58de45b/resource/a76793df-76aa-469a-97bc-ae3a04b6faad/download/water-bodies.geojson'\n",
    "out_fn = 'data/' + 'tonle_sap_lake.geojson'\n",
    "lakes = gpd.read_file(url)\n",
    "tsl = lakes.loc[lakes['name'] == 'Boeung Tonle Sap']\n",
    "tsl.to_file(out_fn)"
   ]
  },
  {
   "cell_type": "code",
   "execution_count": 61,
   "id": "cea3b292-5b0d-4416-b393-8365cdc53d64",
   "metadata": {
    "tags": []
   },
   "outputs": [],
   "source": [
    "# LMB (just remove China from Mekong shapefile)\n",
    "countries = gpd.read_file(data_dir + 'asia_polygons.gpkg')\n",
    "lmb_countries = [\n",
    "    'VIETNAM',\n",
    "    'THAILAND',\n",
    "    'CAMBODIA', \n",
    "    'LAOS',\n",
    "    'BURMA'\n",
    "]\n",
    "mekong = gpd.read_file('data/mekong.geojson')\n",
    "lmb = mekong.clip(countries[countries['NAME'].isin(lmb_countries)])\n",
    "lmb.to_file('data/lmb.geojson')"
   ]
  }
 ],
 "metadata": {
  "kernelspec": {
   "display_name": "Python 3 (ipykernel)",
   "language": "python",
   "name": "python3"
  },
  "language_info": {
   "codemirror_mode": {
    "name": "ipython",
    "version": 3
   },
   "file_extension": ".py",
   "mimetype": "text/x-python",
   "name": "python",
   "nbconvert_exporter": "python",
   "pygments_lexer": "ipython3",
   "version": "3.11.4"
  }
 },
 "nbformat": 4,
 "nbformat_minor": 5
}
